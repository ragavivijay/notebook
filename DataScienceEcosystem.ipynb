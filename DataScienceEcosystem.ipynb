{
 "cells": [
  {
   "cell_type": "markdown",
   "id": "4aa68040-64f8-415b-b0ef-064895d47d17",
   "metadata": {
    "tags": []
   },
   "source": [
    "# Data Science Tools and Ecosystem\n"
   ]
  },
  {
   "cell_type": "markdown",
   "id": "41113fc9-b432-4378-bb19-c63ac695adec",
   "metadata": {},
   "source": [
    "## In this notebook, Data Science Tools and Ecosystem are summarized."
   ]
  },
  {
   "cell_type": "code",
   "execution_count": null,
   "id": "8d54b947-dcef-443d-b852-fea845449b7f",
   "metadata": {},
   "outputs": [],
   "source": []
  },
  {
   "cell_type": "markdown",
   "id": "fc62681d-0549-4cb6-99fe-f82fd2f67561",
   "metadata": {},
   "source": [
    "Some of the popular languages that Data Scientist use are:\n",
    "1. Python\n",
    "2. R language\n",
    "3. Scala\n",
    "4. SQL\n"
   ]
  },
  {
   "cell_type": "markdown",
   "id": "b0bf29a8-a268-451e-b8a4-df116c31933c",
   "metadata": {},
   "source": [
    "Some of commonly used libraries used by Data Scientist includes:\n",
    "1. TensorFlow\n",
    "2. PyTorch\n",
    "3. Pandas\n"
   ]
  },
  {
   "cell_type": "markdown",
   "id": "9a2ef357-c855-4d10-91a2-f0e1649645bc",
   "metadata": {},
   "source": [
    "| Data Science Tools |\n",
    "|--------------------|\n",
    "| R studio |\n",
    "| Apache Spark |\n",
    "| Apache Hadoop |\n"
   ]
  },
  {
   "cell_type": "markdown",
   "id": "34caecb0-9144-4981-b471-8abf03dcb3ed",
   "metadata": {},
   "source": [
    "### Below are a few examples of evaluating arithmetic expressions in Python."
   ]
  },
  {
   "cell_type": "markdown",
   "id": "97f4dc0f-1217-4c71-998f-2f2ad0814eba",
   "metadata": {},
   "source": [
    "This a simple arithmetic expression to multiply then add integers.\n"
   ]
  },
  {
   "cell_type": "code",
   "execution_count": 2,
   "id": "82295879-b332-418e-b970-a0e4996f84f4",
   "metadata": {
    "tags": []
   },
   "outputs": [
    {
     "data": {
      "text/plain": [
       "17"
      ]
     },
     "execution_count": 2,
     "metadata": {},
     "output_type": "execute_result"
    }
   ],
   "source": [
    "(3*4)+5"
   ]
  },
  {
   "cell_type": "markdown",
   "id": "8d6167e2-29fd-495d-a947-3bed1bdcb03d",
   "metadata": {},
   "source": [
    "This will convert 200 minutes to hours by diving by 60."
   ]
  },
  {
   "cell_type": "markdown",
   "id": "d65cee2d-612f-4439-8949-4eb6e5874977",
   "metadata": {},
   "source": [
    "# Objectives"
   ]
  },
  {
   "cell_type": "markdown",
   "id": "da6461b0-25e3-4c20-a3ad-bd9edcfb8014",
   "metadata": {},
   "source": [
    "* Python\n",
    "* R language\n",
    "* Scala\n",
    "* Swift\n",
    "* Java\n",
    "* Julia\n",
    "* SQL"
   ]
  },
  {
   "cell_type": "markdown",
   "id": "cb4f95fe-6052-4698-8c5a-bb45ee051144",
   "metadata": {},
   "source": [
    "## Author"
   ]
  },
  {
   "cell_type": "markdown",
   "id": "6ba40bcb-32d5-476a-ba36-5154017b73ff",
   "metadata": {},
   "source": [
    "Ragavisruthi kumaresan"
   ]
  },
  {
   "cell_type": "code",
   "execution_count": null,
   "id": "c48ad60c-7580-4735-acec-bc22cf12a110",
   "metadata": {},
   "outputs": [],
   "source": []
  }
 ],
 "metadata": {
  "kernelspec": {
   "display_name": "Python",
   "language": "python",
   "name": "conda-env-python-py"
  },
  "language_info": {
   "codemirror_mode": {
    "name": "ipython",
    "version": 3
   },
   "file_extension": ".py",
   "mimetype": "text/x-python",
   "name": "python",
   "nbconvert_exporter": "python",
   "pygments_lexer": "ipython3",
   "version": "3.7.12"
  }
 },
 "nbformat": 4,
 "nbformat_minor": 5
}
